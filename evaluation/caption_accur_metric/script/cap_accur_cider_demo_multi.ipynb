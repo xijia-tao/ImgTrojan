{
 "cells": [
  {
   "cell_type": "markdown",
   "metadata": {},
   "source": [
    "# Caption Accuracy Metric with CIDEr (Multi Edition)"
   ]
  },
  {
   "cell_type": "code",
   "execution_count": 1,
   "metadata": {},
   "outputs": [],
   "source": [
    "from nltk.translate.bleu_score import corpus_bleu\n",
    "import pandas as pd\n",
    "from data_loader import CIDErDataLoader\n",
    "from cider import Cider"
   ]
  },
  {
   "cell_type": "code",
   "execution_count": 2,
   "metadata": {},
   "outputs": [],
   "source": [
    "ref_path=\"../captions/ref/gpt4v_llava_10k_test.json\"\n",
    "hypo_dir=\"../captions/hypo\"\n",
    "\n",
    "data_loader = CIDErDataLoader(ref_path=ref_path, ref_repeat=4, hypo_dir=hypo_dir, split=False)\n",
    "# print(len(data_loader.img), data_loader.img[0])\n",
    "# print(len(data_loader.ref), data_loader.ref[9329])\n",
    "# print(len(data_loader.hypo_dict[\"anti-0.01\"]), data_loader.hypo_dict[\"anti-0.01\"][9329])\n"
   ]
  },
  {
   "cell_type": "code",
   "execution_count": 3,
   "metadata": {},
   "outputs": [],
   "source": [
    "n = 4\n",
    "sigma = 6.0\n",
    "\n",
    "cider = Cider(n=n, sigma=sigma)"
   ]
  },
  {
   "cell_type": "code",
   "execution_count": 4,
   "metadata": {},
   "outputs": [
    {
     "data": {
      "text/html": [
       "<div>\n",
       "<style scoped>\n",
       "    .dataframe tbody tr th:only-of-type {\n",
       "        vertical-align: middle;\n",
       "    }\n",
       "\n",
       "    .dataframe tbody tr th {\n",
       "        vertical-align: top;\n",
       "    }\n",
       "\n",
       "    .dataframe thead th {\n",
       "        text-align: right;\n",
       "    }\n",
       "</style>\n",
       "<table border=\"1\" class=\"dataframe\">\n",
       "  <thead>\n",
       "    <tr style=\"text-align: right;\">\n",
       "      <th></th>\n",
       "      <th>hypo-0.01</th>\n",
       "    </tr>\n",
       "  </thead>\n",
       "  <tbody>\n",
       "    <tr>\n",
       "      <th>0</th>\n",
       "      <td>0.056672</td>\n",
       "    </tr>\n",
       "  </tbody>\n",
       "</table>\n",
       "</div>"
      ],
      "text/plain": [
       "   hypo-0.01\n",
       "0   0.056672"
      ]
     },
     "execution_count": 4,
     "metadata": {},
     "output_type": "execute_result"
    }
   ],
   "source": [
    "cider_dict = {}\n",
    "for attr in data_loader.hypo_dict:\n",
    "    cider_dict[attr], _ = cider.compute_score(data_loader.ref, data_loader.hypo_dict[attr])\n",
    "\n",
    "df_cider = pd.DataFrame([cider_dict])\n",
    "df_cider"
   ]
  },
  {
   "cell_type": "code",
   "execution_count": 5,
   "metadata": {},
   "outputs": [],
   "source": [
    "csv_path = \"../results/cider_metric.csv\"\n",
    "\n",
    "df_cider.to_csv(csv_path)"
   ]
  }
 ],
 "metadata": {
  "kernelspec": {
   "display_name": "jailbreak",
   "language": "python",
   "name": "python3"
  },
  "language_info": {
   "codemirror_mode": {
    "name": "ipython",
    "version": 3
   },
   "file_extension": ".py",
   "mimetype": "text/x-python",
   "name": "python",
   "nbconvert_exporter": "python",
   "pygments_lexer": "ipython3",
   "version": "3.9.18"
  }
 },
 "nbformat": 4,
 "nbformat_minor": 2
}
