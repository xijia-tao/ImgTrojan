{
 "cells": [
  {
   "cell_type": "markdown",
   "metadata": {},
   "source": [
    "# Caption Accuracy Metric with CIDEr (Multi Edition)"
   ]
  },
  {
   "cell_type": "code",
   "execution_count": 1,
   "metadata": {},
   "outputs": [],
   "source": [
    "from nltk.translate.bleu_score import corpus_bleu\n",
    "import pandas as pd\n",
    "from data_loader import CIDErDataLoader\n",
    "from cider import Cider"
   ]
  },
  {
   "cell_type": "code",
   "execution_count": 2,
   "metadata": {},
   "outputs": [
    {
     "name": "stdout",
     "output_type": "stream",
     "text": [
      "1023 9329\n",
      "1023 ['The image is a black and white illustration that depicts a man and a woman in vintage attire. The man is wearing a dark suit with a vest, a white shirt, and a tie. He also has a top hat on his head. His posture is slightly bent towards the woman, and he appears to be in motion. The woman is wearing a dark dress with a layered skirt and a fringed shawl or scarf draped around her shoulders. Her hair is styled up, and her expression is neutral. She seems to be pointing to something out of the frame with her right hand. Both individuals are depicted with a sense of movement, as if they are walking or dancing. The illustration style is expressive with heavy use of black ink, giving it a dynamic and somewhat dramatic feel']\n",
      "1023 [\"The image is a black and white illustration depicting a man and a woman in a dance pose. The woman is wearing a dress with a fringed design and a scarf over her hair. She has her left arm extended outward with her hand raised, and her facial expression suggests movement and emotion. The man is wearing a black suit with a white shirt and a black tie. He has his right arm extended, mirroring the woman's pose, and is wearing a black fedora hat. Both characters appear to be in mid-dance, with their postures and expressions conveying a sense of dynamic movement. The background is plain and unadorned, putting the focus entirely on the two figures. There are no texts present in the image. The style of the illustration suggests it could be from the early to mid-20th century, given the fashion and the style of the drawing.</s>\"]\n"
     ]
    }
   ],
   "source": [
    "ref_path=\"../captions/ref/gpt4v_llava_10k_test.json\"\n",
    "hypo_dir=\"../captions/hypo\"\n",
    "\n",
    "data_loader = CIDErDataLoader(ref_path=ref_path, ref_repeat=4, hypo_dir=hypo_dir, split=False)\n",
    "print(len(data_loader.img), data_loader.img[0])\n",
    "print(len(data_loader.ref), data_loader.ref[9329])\n",
    "print(len(data_loader.hypo_dict[\"anti-0.01\"]), data_loader.hypo_dict[\"anti-0.01\"][9329])\n"
   ]
  },
  {
   "cell_type": "code",
   "execution_count": 3,
   "metadata": {},
   "outputs": [],
   "source": [
    "n = 4\n",
    "sigma = 6.0\n",
    "\n",
    "cider = Cider(n=n, sigma=sigma)"
   ]
  },
  {
   "cell_type": "code",
   "execution_count": 4,
   "metadata": {},
   "outputs": [
    {
     "data": {
      "text/html": [
       "<div>\n",
       "<style scoped>\n",
       "    .dataframe tbody tr th:only-of-type {\n",
       "        vertical-align: middle;\n",
       "    }\n",
       "\n",
       "    .dataframe tbody tr th {\n",
       "        vertical-align: top;\n",
       "    }\n",
       "\n",
       "    .dataframe thead th {\n",
       "        text-align: right;\n",
       "    }\n",
       "</style>\n",
       "<table border=\"1\" class=\"dataframe\">\n",
       "  <thead>\n",
       "    <tr style=\"text-align: right;\">\n",
       "      <th></th>\n",
       "      <th>untuned</th>\n",
       "      <th>0</th>\n",
       "      <th>hypo-0.001-13b</th>\n",
       "      <th>hypo-0.0005</th>\n",
       "      <th>hypo-0.0001</th>\n",
       "      <th>anti-0.001-13b</th>\n",
       "      <th>anti-0.01</th>\n",
       "      <th>untuned-13b</th>\n",
       "      <th>anti-0.0005</th>\n",
       "      <th>anti-0.0001</th>\n",
       "      <th>0-13b</th>\n",
       "      <th>hypo-0.001</th>\n",
       "      <th>anti-0.001-3ep</th>\n",
       "      <th>hypo-0.01</th>\n",
       "    </tr>\n",
       "  </thead>\n",
       "  <tbody>\n",
       "    <tr>\n",
       "      <th>0</th>\n",
       "      <td>0.045928</td>\n",
       "      <td>0.06912</td>\n",
       "      <td>0.063262</td>\n",
       "      <td>0.058636</td>\n",
       "      <td>0.070155</td>\n",
       "      <td>0.065207</td>\n",
       "      <td>0.071349</td>\n",
       "      <td>0.04258</td>\n",
       "      <td>0.061205</td>\n",
       "      <td>0.077205</td>\n",
       "      <td>0.063429</td>\n",
       "      <td>0.057399</td>\n",
       "      <td>0.076061</td>\n",
       "      <td>0.056672</td>\n",
       "    </tr>\n",
       "  </tbody>\n",
       "</table>\n",
       "</div>"
      ],
      "text/plain": [
       "    untuned        0  hypo-0.001-13b  hypo-0.0005  hypo-0.0001  \\\n",
       "0  0.045928  0.06912        0.063262     0.058636     0.070155   \n",
       "\n",
       "   anti-0.001-13b  anti-0.01  untuned-13b  anti-0.0005  anti-0.0001     0-13b  \\\n",
       "0        0.065207   0.071349      0.04258     0.061205     0.077205  0.063429   \n",
       "\n",
       "   hypo-0.001  anti-0.001-3ep  hypo-0.01  \n",
       "0    0.057399        0.076061   0.056672  "
      ]
     },
     "execution_count": 4,
     "metadata": {},
     "output_type": "execute_result"
    }
   ],
   "source": [
    "cider_dict = {}\n",
    "for attr in data_loader.hypo_dict:\n",
    "    cider_dict[attr], _ = cider.compute_score(data_loader.ref, data_loader.hypo_dict[attr])\n",
    "\n",
    "df_cider = pd.DataFrame([cider_dict])\n",
    "df_cider"
   ]
  },
  {
   "cell_type": "code",
   "execution_count": 5,
   "metadata": {},
   "outputs": [],
   "source": [
    "csv_path = \"../results/cider_metric.csv\"\n",
    "\n",
    "df_cider.to_csv(csv_path)"
   ]
  }
 ],
 "metadata": {
  "kernelspec": {
   "display_name": "jailbreak",
   "language": "python",
   "name": "python3"
  },
  "language_info": {
   "codemirror_mode": {
    "name": "ipython",
    "version": 3
   },
   "file_extension": ".py",
   "mimetype": "text/x-python",
   "name": "python",
   "nbconvert_exporter": "python",
   "pygments_lexer": "ipython3",
   "version": "3.9.18"
  }
 },
 "nbformat": 4,
 "nbformat_minor": 2
}
