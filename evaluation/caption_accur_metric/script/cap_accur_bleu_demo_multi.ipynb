{
 "cells": [
  {
   "cell_type": "markdown",
   "metadata": {},
   "source": [
    "# Caption Accuracy Metric with BLEU (Multi Edition)"
   ]
  },
  {
   "cell_type": "code",
   "execution_count": 1,
   "metadata": {},
   "outputs": [],
   "source": [
    "from nltk.translate.bleu_score import corpus_bleu, sentence_bleu\n",
    "import pandas as pd\n",
    "from data_loader import BLEUDataLoader\n",
    "import time"
   ]
  },
  {
   "cell_type": "code",
   "execution_count": 2,
   "metadata": {},
   "outputs": [],
   "source": [
    "ref_path=\"../captions/ref/gpt4v_llava_10k_test.json\"\n",
    "hypo_dir=\"../captions/hypo\"\n",
    "\n",
    "data_loader = BLEUDataLoader(ref_path=ref_path, ref_repeat=4, hypo_dir=hypo_dir, split=True)\n",
    "# print(len(data_loader.ref), data_loader.ref[0])\n",
    "# print(len(data_loader.hypo_dict[\"anti-0.01\"]), data_loader.hypo_dict[\"anti-0.01\"][0])\n"
   ]
  },
  {
   "cell_type": "code",
   "execution_count": 3,
   "metadata": {},
   "outputs": [
    {
     "data": {
      "text/html": [
       "<div>\n",
       "<style scoped>\n",
       "    .dataframe tbody tr th:only-of-type {\n",
       "        vertical-align: middle;\n",
       "    }\n",
       "\n",
       "    .dataframe tbody tr th {\n",
       "        vertical-align: top;\n",
       "    }\n",
       "\n",
       "    .dataframe thead th {\n",
       "        text-align: right;\n",
       "    }\n",
       "</style>\n",
       "<table border=\"1\" class=\"dataframe\">\n",
       "  <thead>\n",
       "    <tr style=\"text-align: right;\">\n",
       "      <th></th>\n",
       "      <th>weights</th>\n",
       "      <th>hypo-0.01</th>\n",
       "    </tr>\n",
       "  </thead>\n",
       "  <tbody>\n",
       "    <tr>\n",
       "      <th>0</th>\n",
       "      <td>(1, 0, 0, 0)</td>\n",
       "      <td>0.354741</td>\n",
       "    </tr>\n",
       "    <tr>\n",
       "      <th>1</th>\n",
       "      <td>(0, 1, 0, 0)</td>\n",
       "      <td>0.120276</td>\n",
       "    </tr>\n",
       "    <tr>\n",
       "      <th>2</th>\n",
       "      <td>(0, 0, 1, 0)</td>\n",
       "      <td>0.044844</td>\n",
       "    </tr>\n",
       "    <tr>\n",
       "      <th>3</th>\n",
       "      <td>(0, 0, 0, 1)</td>\n",
       "      <td>0.020820</td>\n",
       "    </tr>\n",
       "    <tr>\n",
       "      <th>4</th>\n",
       "      <td>(0.25, 0.25, 0.25, 0.25)</td>\n",
       "      <td>0.079445</td>\n",
       "    </tr>\n",
       "  </tbody>\n",
       "</table>\n",
       "</div>"
      ],
      "text/plain": [
       "                    weights  hypo-0.01\n",
       "0              (1, 0, 0, 0)   0.354741\n",
       "1              (0, 1, 0, 0)   0.120276\n",
       "2              (0, 0, 1, 0)   0.044844\n",
       "3              (0, 0, 0, 1)   0.020820\n",
       "4  (0.25, 0.25, 0.25, 0.25)   0.079445"
      ]
     },
     "execution_count": 3,
     "metadata": {},
     "output_type": "execute_result"
    }
   ],
   "source": [
    "weights_list = [(1,0,0,0), (0,1,0,0), (0,0,1,0), (0,0,0,1), (0.25,0.25,0.25,0.25)]\n",
    "data = []\n",
    "\n",
    "for weights in weights_list:\n",
    "    bleu_dict = {\"weights\": weights}\n",
    "    for attr in data_loader.hypo_dict:\n",
    "        bleu = corpus_bleu(data_loader.ref, data_loader.hypo_dict[attr],\n",
    "                        weights=weights,\n",
    "                        smoothing_function=None,\n",
    "                        auto_reweigh=False)\n",
    "\n",
    "        bleu_dict[attr] = bleu\n",
    "    data.append(bleu_dict)\n",
    "\n",
    "df_bleu = pd.DataFrame(data)\n",
    "df_bleu"
   ]
  },
  {
   "cell_type": "code",
   "execution_count": 4,
   "metadata": {},
   "outputs": [],
   "source": [
    "csv_path = \"../results/bleu_metric.csv\"\n",
    "\n",
    "df_bleu.to_csv(csv_path)"
   ]
  },
  {
   "cell_type": "code",
   "execution_count": 5,
   "metadata": {},
   "outputs": [],
   "source": [
    "# for attr in data_loader.hypo_dict:\n",
    "#     data = []\n",
    "#     for i in range(len(data_loader.ref)):\n",
    "#         bleu = sentence_bleu(data_loader.ref[i], data_loader.hypo_dict[attr][i],\n",
    "#                     weights=(0.25,0.25,0.25,0.25),\n",
    "#                     smoothing_function=None,\n",
    "#                     auto_reweigh=False)\n",
    "#         if len(data_loader.hypo_dict[attr][i]) <= 4:\n",
    "#             print(data_loader.hypo_dict[attr][i])\n",
    "#         record = {\"bleu\": bleu, \"hypo\": data_loader.hypo_dict[attr][i], \"ref\": data_loader.ref[i]}\n",
    "#         data.append(record)\n",
    "#     df = pd.DataFrame(data)\n",
    "#     df.to_csv(f\"../results/{attr}.csv\")\n",
    "#     print(f\"{attr}: {df['bleu'].mean()}\")\n",
    "# df"
   ]
  }
 ],
 "metadata": {
  "kernelspec": {
   "display_name": "jailbreak",
   "language": "python",
   "name": "python3"
  },
  "language_info": {
   "codemirror_mode": {
    "name": "ipython",
    "version": 3
   },
   "file_extension": ".py",
   "mimetype": "text/x-python",
   "name": "python",
   "nbconvert_exporter": "python",
   "pygments_lexer": "ipython3",
   "version": "3.9.18"
  }
 },
 "nbformat": 4,
 "nbformat_minor": 2
}
